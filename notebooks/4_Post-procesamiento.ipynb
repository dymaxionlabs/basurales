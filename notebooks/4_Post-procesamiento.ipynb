{
 "cells": [
  {
   "cell_type": "markdown",
   "metadata": {},
   "source": [
    "# Post-procesamiento\n",
    "\n",
    "Este notebook describe los métodos de post-procesamiento que fueron aplicados sobre los resultados de las predicciones del modelo de U-Net."
   ]
  },
  {
   "cell_type": "markdown",
   "metadata": {},
   "source": [
    "## Poligonizado\n",
    "\n",
    "La siguiente función aplica una rutina de poligonización sobre los resultados de la predicción del modelo y genera un archivo vectorial en formato GeoPackage (GPKG). La rutina aplica `gdal_polygonize.py` a cada chip resultado generando un GPKG para cada chip, y luego une todos estos archivos en uno solo, de manera eficiente.\n",
    "\n",
    "Antes de unirlos también aplica un umbral sobre los valores de los rásteres, que en este caso representan la probabilidad (valores entre 0 y 1)."
   ]
  },
  {
   "cell_type": "code",
   "execution_count": 3,
   "metadata": {},
   "outputs": [
    {
     "name": "stdout",
     "output_type": "stream",
     "text": [
      "Obtaining file:///home/ro/satproc\n",
      "Requirement already satisfied: fiona in /home/ro/.local/lib/python3.8/site-packages (from satproc==0.0.post0.dev99+g3977d20.dirty) (1.8.19)\n",
      "Requirement already satisfied: numpy in /home/ro/.local/lib/python3.8/site-packages (from satproc==0.0.post0.dev99+g3977d20.dirty) (1.18.5)\n",
      "Requirement already satisfied: pyproj==1.9.6 in /home/ro/.local/lib/python3.8/site-packages (from satproc==0.0.post0.dev99+g3977d20.dirty) (1.9.6)\n",
      "Requirement already satisfied: rasterio in /home/ro/.local/lib/python3.8/site-packages (from satproc==0.0.post0.dev99+g3977d20.dirty) (1.2.2)\n",
      "Requirement already satisfied: rtree in /home/ro/.local/lib/python3.8/site-packages (from satproc==0.0.post0.dev99+g3977d20.dirty) (0.9.7)\n",
      "Requirement already satisfied: scikit-image in /home/ro/.local/lib/python3.8/site-packages (from satproc==0.0.post0.dev99+g3977d20.dirty) (0.18.1)\n",
      "Requirement already satisfied: scipy in /home/ro/.local/lib/python3.8/site-packages (from satproc==0.0.post0.dev99+g3977d20.dirty) (1.6.2)\n",
      "Requirement already satisfied: shapely in /home/ro/.local/lib/python3.8/site-packages (from satproc==0.0.post0.dev99+g3977d20.dirty) (1.7.1)\n",
      "Requirement already satisfied: tqdm in /home/ro/.local/lib/python3.8/site-packages (from satproc==0.0.post0.dev99+g3977d20.dirty) (4.60.0)\n",
      "Requirement already satisfied: munch in /home/ro/.local/lib/python3.8/site-packages (from fiona->satproc==0.0.post0.dev99+g3977d20.dirty) (2.5.0)\n",
      "Requirement already satisfied: cligj>=0.5 in /home/ro/.local/lib/python3.8/site-packages (from fiona->satproc==0.0.post0.dev99+g3977d20.dirty) (0.7.1)\n",
      "Requirement already satisfied: click-plugins>=1.0 in /home/ro/.local/lib/python3.8/site-packages (from fiona->satproc==0.0.post0.dev99+g3977d20.dirty) (1.1.1)\n",
      "Requirement already satisfied: six>=1.7 in /opt/miniconda3/lib/python3.8/site-packages (from fiona->satproc==0.0.post0.dev99+g3977d20.dirty) (1.15.0)\n",
      "Requirement already satisfied: click<8,>=4.0 in /opt/miniconda3/lib/python3.8/site-packages (from fiona->satproc==0.0.post0.dev99+g3977d20.dirty) (7.1.2)\n",
      "Requirement already satisfied: certifi in /opt/miniconda3/lib/python3.8/site-packages (from fiona->satproc==0.0.post0.dev99+g3977d20.dirty) (2020.11.8)\n",
      "Requirement already satisfied: attrs>=17 in /opt/miniconda3/lib/python3.8/site-packages (from fiona->satproc==0.0.post0.dev99+g3977d20.dirty) (20.3.0)\n",
      "Requirement already satisfied: snuggs>=1.4.1 in /home/ro/.local/lib/python3.8/site-packages (from rasterio->satproc==0.0.post0.dev99+g3977d20.dirty) (1.4.7)\n",
      "Requirement already satisfied: affine in /home/ro/.local/lib/python3.8/site-packages (from rasterio->satproc==0.0.post0.dev99+g3977d20.dirty) (2.3.0)\n",
      "Requirement already satisfied: pyparsing>=2.1.6 in /opt/miniconda3/lib/python3.8/site-packages (from snuggs>=1.4.1->rasterio->satproc==0.0.post0.dev99+g3977d20.dirty) (2.4.7)\n",
      "Requirement already satisfied: PyWavelets>=1.1.1 in /home/ro/.local/lib/python3.8/site-packages (from scikit-image->satproc==0.0.post0.dev99+g3977d20.dirty) (1.1.1)\n",
      "Requirement already satisfied: networkx>=2.0 in /home/ro/.local/lib/python3.8/site-packages (from scikit-image->satproc==0.0.post0.dev99+g3977d20.dirty) (2.5.1)\n",
      "Requirement already satisfied: tifffile>=2019.7.26 in /home/ro/.local/lib/python3.8/site-packages (from scikit-image->satproc==0.0.post0.dev99+g3977d20.dirty) (2021.4.8)\n",
      "Requirement already satisfied: matplotlib!=3.0.0,>=2.0.0 in /opt/miniconda3/lib/python3.8/site-packages (from scikit-image->satproc==0.0.post0.dev99+g3977d20.dirty) (3.3.3)\n",
      "Requirement already satisfied: pillow!=7.1.0,!=7.1.1,>=4.3.0 in /opt/miniconda3/lib/python3.8/site-packages (from scikit-image->satproc==0.0.post0.dev99+g3977d20.dirty) (8.0.1)\n",
      "Requirement already satisfied: imageio>=2.3.0 in /home/ro/.local/lib/python3.8/site-packages (from scikit-image->satproc==0.0.post0.dev99+g3977d20.dirty) (2.9.0)\n",
      "Requirement already satisfied: kiwisolver>=1.0.1 in /opt/miniconda3/lib/python3.8/site-packages (from matplotlib!=3.0.0,>=2.0.0->scikit-image->satproc==0.0.post0.dev99+g3977d20.dirty) (1.3.1)\n",
      "Requirement already satisfied: cycler>=0.10 in /opt/miniconda3/lib/python3.8/site-packages (from matplotlib!=3.0.0,>=2.0.0->scikit-image->satproc==0.0.post0.dev99+g3977d20.dirty) (0.10.0)\n",
      "Requirement already satisfied: python-dateutil>=2.1 in /opt/miniconda3/lib/python3.8/site-packages (from matplotlib!=3.0.0,>=2.0.0->scikit-image->satproc==0.0.post0.dev99+g3977d20.dirty) (2.8.1)\n",
      "Requirement already satisfied: decorator<5,>=4.3 in /opt/miniconda3/lib/python3.8/site-packages (from networkx>=2.0->scikit-image->satproc==0.0.post0.dev99+g3977d20.dirty) (4.4.2)\n",
      "Installing collected packages: satproc\n",
      "  Attempting uninstall: satproc\n",
      "    Found existing installation: satproc 0.0.post0.dev99+g3977d20.dirty\n",
      "    Uninstalling satproc-0.0.post0.dev99+g3977d20.dirty:\n",
      "      Successfully uninstalled satproc-0.0.post0.dev99+g3977d20.dirty\n",
      "  Running setup.py develop for satproc\n",
      "Successfully installed satproc\n",
      "\u001b[33mWARNING: You are using pip version 21.0.1; however, version 21.1.2 is available.\n",
      "You should consider upgrading via the '/opt/miniconda3/bin/python -m pip install --upgrade pip' command.\u001b[0m\n"
     ]
    }
   ],
   "source": [
    "!pip install -e /home/ro/satproc/.\n"
   ]
  },
  {
   "cell_type": "code",
   "execution_count": 5,
   "metadata": {},
   "outputs": [],
   "source": [
    "from satproc.postprocess import polygonize"
   ]
  },
  {
   "cell_type": "code",
   "execution_count": 2,
   "metadata": {},
   "outputs": [],
   "source": [
    "!mkdir /home/ro/basurales/data/data_results/filtered_up05/"
   ]
  },
  {
   "cell_type": "code",
   "execution_count": 3,
   "metadata": {},
   "outputs": [
    {
     "name": "stderr",
     "output_type": "stream",
     "text": [
      "100%|██████████| 178235/178235 [03:33<00:00, 833.13it/s]\n"
     ]
    }
   ],
   "source": [
    "filter_by_max_prob(input_dir='/home/ro/basurales/data/data_results/6D/100_100',\n",
    "                   output_dir='/home/ro/basur147853\n",
    "                   ales/data/data_results/filtered_up05/',\n",
    "                   threshold=0.5)"
   ]
  },
  {
   "cell_type": "code",
   "execution_count": null,
   "metadata": {
    "jupyter": {
     "outputs_hidden": true
    }
   },
   "outputs": [
    {
     "name": "stderr",
     "output_type": "stream",
     "text": [
      " 97%|█████████▋| 55752/57633 [2:31:01<05:46,  5.43it/s]  "
     ]
    }
   ],
   "source": [
    "input_path = '/home/ro/basurales/data/data_results/filtered_up05/'\n",
    "output_path = '/home/ro/basurales/data/data_results/basurales_100x100_thr05.gpkg'\n",
    "\n",
    "\n",
    "polygonize(threshold=0.5,\n",
    "           input_dir=input_path,\n",
    "           output=output_path)"
   ]
  },
  {
   "cell_type": "markdown",
   "metadata": {},
   "source": [
    "## Filtrar por área mínima\n",
    "\n",
    "Como último paso, filtramos aquellos polígonos de area inferior a 300 m², dado que consideramos que son falsos positivos. Para esto utilizamos `ogr2ogr` y una consulta SQL. El resultado se guarda en `data/results/predict_300.gpkg`"
   ]
  },
  {
   "cell_type": "code",
   "execution_count": 18,
   "metadata": {},
   "outputs": [],
   "source": [
    "min_area = 35000\n",
    "input_path = \"/home/ro/basurales/data/data_results/basurales_100x100_thr05_utm.gpkg\"\n",
    "output_path = \"/home/ro/basurales/data/data_results/basurales_100x100_thr05_up35000_utm.gpkg\""
   ]
  },
  {
   "cell_type": "code",
   "execution_count": 4,
   "metadata": {},
   "outputs": [
    {
     "name": "stdout",
     "output_type": "stream",
     "text": [
      "INFO: Open of `/home/ro/basurales/data/data_results/basurales_100x100_thr05_utm.gpkg'\r\n",
      "      using driver `GPKG' successful.\r\n",
      "\r\n",
      "Layer name: basurales_100x100_thr05_utm\r\n",
      "Geometry: Polygon\r\n",
      "Feature Count: 111253\r\n",
      "Extent: (455592.599528, 5473248.203130) - (1070896.286680, 6318803.329936)\r\n",
      "Layer SRS WKT:\r\n",
      "PROJCRS[\"WGS 84 / UTM zone 20S\",\r\n",
      "    BASEGEOGCRS[\"WGS 84\",\r\n",
      "        DATUM[\"World Geodetic System 1984\",\r\n",
      "            ELLIPSOID[\"WGS 84\",6378137,298.257223563,\r\n",
      "                LENGTHUNIT[\"metre\",1]]],\r\n",
      "        PRIMEM[\"Greenwich\",0,\r\n",
      "            ANGLEUNIT[\"degree\",0.0174532925199433]],\r\n",
      "        ID[\"EPSG\",4326]],\r\n",
      "    CONVERSION[\"UTM zone 20S\",\r\n",
      "        METHOD[\"Transverse Mercator\",\r\n",
      "            ID[\"EPSG\",9807]],\r\n",
      "        PARAMETER[\"Latitude of natural origin\",0,\r\n",
      "            ANGLEUNIT[\"degree\",0.0174532925199433],\r\n",
      "            ID[\"EPSG\",8801]],\r\n",
      "        PARAMETER[\"Longitude of natural origin\",-63,\r\n",
      "            ANGLEUNIT[\"degree\",0.0174532925199433],\r\n",
      "            ID[\"EPSG\",8802]],\r\n"
     ]
    }
   ],
   "source": [
    "!ogrinfo -al $input_path | head -n25"
   ]
  },
  {
   "cell_type": "code",
   "execution_count": 19,
   "metadata": {},
   "outputs": [],
   "source": [
    "!ogr2ogr \\\n",
    "    -t_srs EPSG:32720 \\\n",
    "    -f \"GPKG\" \\\n",
    "    -sql \"SELECT * FROM basurales_100x100_thr05_utm m WHERE ST_Area(geom) > $min_area\" \\\n",
    "    -dialect SQLITE \\\n",
    "    -nln results \\\n",
    "    $output_path \\\n",
    "    $input_path"
   ]
  }
 ],
 "metadata": {
  "colab": {
   "authorship_tag": "ABX9TyNKlws8+6PcuvJrSWdSmTxJ",
   "include_colab_link": true,
   "name": "4 - Post-procesamiento",
   "provenance": []
  },
  "kernelspec": {
   "display_name": "tf-gpu",
   "language": "python",
   "name": "tf-gpu"
  },
  "language_info": {
   "codemirror_mode": {
    "name": "ipython",
    "version": 3
   },
   "file_extension": ".py",
   "mimetype": "text/x-python",
   "name": "python",
   "nbconvert_exporter": "python",
   "pygments_lexer": "ipython3",
   "version": "3.7.10"
  },
  "toc": {
   "base_numbering": 1,
   "nav_menu": {},
   "number_sections": true,
   "sideBar": true,
   "skip_h1_title": false,
   "title_cell": "Table of Contents",
   "title_sidebar": "Contents",
   "toc_cell": false,
   "toc_position": {},
   "toc_section_display": true,
   "toc_window_display": false
  }
 },
 "nbformat": 4,
 "nbformat_minor": 4
}
