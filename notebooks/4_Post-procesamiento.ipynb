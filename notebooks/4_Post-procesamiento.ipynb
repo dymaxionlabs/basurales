{
 "cells": [
  {
   "cell_type": "markdown",
   "metadata": {},
   "source": [
    "# Post-procesamiento\n",
    "\n",
    "Este notebook describe los métodos de post-procesamiento que fueron aplicados sobre los resultados de las predicciones del modelo de U-Net."
   ]
  },
  {
   "cell_type": "markdown",
   "metadata": {},
   "source": [
    "## Poligonizado\n",
    "\n",
    "La siguiente función aplica una rutina de poligonización sobre los resultados de la predicción del modelo y genera un archivo vectorial en formato GeoPackage (GPKG). La rutina aplica `gdal_polygonize.py` a cada chip resultado generando un GPKG para cada chip, y luego une todos estos archivos en uno solo, de manera eficiente.\n",
    "\n",
    "Antes de unirlos también aplica un umbral sobre los valores de los rásteres, que en este caso representan la probabilidad (valores entre 0 y 1)."
   ]
  },
  {
   "cell_type": "code",
   "execution_count": 2,
   "metadata": {},
   "outputs": [
    {
     "name": "stdout",
     "output_type": "stream",
     "text": [
      "Processing /home/ro/satproc\n",
      "  Installing build dependencies ... \u001b[?25ldone\n",
      "\u001b[?25h  Getting requirements to build wheel ... \u001b[?25ldone\n",
      "\u001b[?25h    Preparing wheel metadata ... \u001b[?25ldone\n",
      "\u001b[?25hObtaining file:///home/ro/basurales\n",
      "Requirement already satisfied: albumentations in /opt/miniconda3/envs/tf-gpu/lib/python3.7/site-packages/albumentations-0.5.2-py3.7.egg (from basurales==0.0.post0.dev4+g62a921a.dirty) (0.5.2)\n",
      "Requirement already satisfied: attrs in /opt/miniconda3/envs/tf-gpu/lib/python3.7/site-packages/attrs-20.3.0-py3.7.egg (from basurales==0.0.post0.dev4+g62a921a.dirty) (20.3.0)\n",
      "Requirement already satisfied: fiona in /opt/miniconda3/envs/tf-gpu/lib/python3.7/site-packages/Fiona-1.8.18-py3.7-linux-x86_64.egg (from basurales==0.0.post0.dev4+g62a921a.dirty) (1.8.18)\n",
      "Requirement already satisfied: imgaug in /opt/miniconda3/envs/tf-gpu/lib/python3.7/site-packages/imgaug-0.4.0-py3.7.egg (from basurales==0.0.post0.dev4+g62a921a.dirty) (0.4.0)\n",
      "Requirement already satisfied: keras==2.3.1 in /opt/miniconda3/envs/tf-gpu/lib/python3.7/site-packages/Keras-2.3.1-py3.7.egg (from basurales==0.0.post0.dev4+g62a921a.dirty) (2.3.1)\n",
      "Requirement already satisfied: matplotlib in /opt/miniconda3/envs/tf-gpu/lib/python3.7/site-packages/matplotlib-3.4.0rc1-py3.7-linux-x86_64.egg (from basurales==0.0.post0.dev4+g62a921a.dirty) (3.4.0rc1)\n",
      "Requirement already satisfied: numpy<1.19 in /opt/miniconda3/envs/tf-gpu/lib/python3.7/site-packages (from basurales==0.0.post0.dev4+g62a921a.dirty) (1.18.5)\n",
      "Requirement already satisfied: opencv-python in /opt/miniconda3/envs/tf-gpu/lib/python3.7/site-packages/opencv_python-4.5.1.48-py3.7-linux-x86_64.egg (from basurales==0.0.post0.dev4+g62a921a.dirty) (4.5.1.48)\n",
      "Requirement already satisfied: pyproj in /opt/miniconda3/envs/tf-gpu/lib/python3.7/site-packages (from basurales==0.0.post0.dev4+g62a921a.dirty) (1.9.6)\n",
      "Requirement already satisfied: rasterio in /opt/miniconda3/envs/tf-gpu/lib/python3.7/site-packages/rasterio-1.2.1-py3.7-linux-x86_64.egg (from basurales==0.0.post0.dev4+g62a921a.dirty) (1.2.1)\n",
      "Requirement already satisfied: scikit-image in /opt/miniconda3/envs/tf-gpu/lib/python3.7/site-packages/scikit_image-0.18.1-py3.7-linux-x86_64.egg (from basurales==0.0.post0.dev4+g62a921a.dirty) (0.18.1)\n",
      "Requirement already satisfied: scikit-learn in /opt/miniconda3/envs/tf-gpu/lib/python3.7/site-packages/scikit_learn-0.24.1-py3.7-linux-x86_64.egg (from basurales==0.0.post0.dev4+g62a921a.dirty) (0.24.1)\n",
      "Requirement already satisfied: shapely in /opt/miniconda3/envs/tf-gpu/lib/python3.7/site-packages/Shapely-1.8a1-py3.7-linux-x86_64.egg (from basurales==0.0.post0.dev4+g62a921a.dirty) (1.8a1)\n",
      "Requirement already satisfied: tensorflow==1.14 in /opt/miniconda3/envs/tf-gpu/lib/python3.7/site-packages (from basurales==0.0.post0.dev4+g62a921a.dirty) (1.14.0)\n",
      "Requirement already satisfied: tqdm in /opt/miniconda3/envs/tf-gpu/lib/python3.7/site-packages/tqdm-4.59.0-py3.7.egg (from basurales==0.0.post0.dev4+g62a921a.dirty) (4.59.0)\n",
      "Requirement already satisfied: importlib-metadata in /opt/miniconda3/envs/tf-gpu/lib/python3.7/site-packages (from pysatproc==0.1.5.post1.dev1+gd0180c8) (2.0.0)\n",
      "Requirement already satisfied: rtree in /opt/miniconda3/envs/tf-gpu/lib/python3.7/site-packages (from pysatproc==0.1.5.post1.dev1+gd0180c8) (0.9.7)\n",
      "Requirement already satisfied: scipy in /opt/miniconda3/envs/tf-gpu/lib/python3.7/site-packages (from pysatproc==0.1.5.post1.dev1+gd0180c8) (1.6.1)\n",
      "Requirement already satisfied: h5py in /opt/miniconda3/envs/tf-gpu/lib/python3.7/site-packages (from keras==2.3.1->basurales==0.0.post0.dev4+g62a921a.dirty) (2.10.0)\n",
      "Requirement already satisfied: keras-applications>=1.0.6 in /opt/miniconda3/envs/tf-gpu/lib/python3.7/site-packages (from keras==2.3.1->basurales==0.0.post0.dev4+g62a921a.dirty) (1.0.8)\n",
      "Requirement already satisfied: keras-preprocessing>=1.0.5 in /opt/miniconda3/envs/tf-gpu/lib/python3.7/site-packages (from keras==2.3.1->basurales==0.0.post0.dev4+g62a921a.dirty) (1.1.2)\n",
      "Requirement already satisfied: pyyaml in /opt/miniconda3/envs/tf-gpu/lib/python3.7/site-packages/PyYAML-5.4.1-py3.7-linux-x86_64.egg (from keras==2.3.1->basurales==0.0.post0.dev4+g62a921a.dirty) (5.4.1)\n",
      "Requirement already satisfied: six>=1.9.0 in /opt/miniconda3/envs/tf-gpu/lib/python3.7/site-packages (from keras==2.3.1->basurales==0.0.post0.dev4+g62a921a.dirty) (1.15.0)\n",
      "Requirement already satisfied: gast>=0.2.0 in /opt/miniconda3/envs/tf-gpu/lib/python3.7/site-packages (from tensorflow==1.14->basurales==0.0.post0.dev4+g62a921a.dirty) (0.4.0)\n",
      "Requirement already satisfied: tensorflow-estimator<1.15.0rc0,>=1.14.0rc0 in /opt/miniconda3/envs/tf-gpu/lib/python3.7/site-packages (from tensorflow==1.14->basurales==0.0.post0.dev4+g62a921a.dirty) (1.14.0)\n",
      "Requirement already satisfied: wrapt>=1.11.1 in /opt/miniconda3/envs/tf-gpu/lib/python3.7/site-packages (from tensorflow==1.14->basurales==0.0.post0.dev4+g62a921a.dirty) (1.12.1)\n",
      "Requirement already satisfied: termcolor>=1.1.0 in /opt/miniconda3/envs/tf-gpu/lib/python3.7/site-packages (from tensorflow==1.14->basurales==0.0.post0.dev4+g62a921a.dirty) (1.1.0)\n",
      "Requirement already satisfied: protobuf>=3.6.1 in /opt/miniconda3/envs/tf-gpu/lib/python3.7/site-packages (from tensorflow==1.14->basurales==0.0.post0.dev4+g62a921a.dirty) (3.14.0)\n",
      "Requirement already satisfied: astor>=0.6.0 in /opt/miniconda3/envs/tf-gpu/lib/python3.7/site-packages (from tensorflow==1.14->basurales==0.0.post0.dev4+g62a921a.dirty) (0.8.1)\n",
      "Requirement already satisfied: tensorboard<1.15.0,>=1.14.0 in /opt/miniconda3/envs/tf-gpu/lib/python3.7/site-packages (from tensorflow==1.14->basurales==0.0.post0.dev4+g62a921a.dirty) (1.14.0)\n",
      "Requirement already satisfied: google-pasta>=0.1.6 in /opt/miniconda3/envs/tf-gpu/lib/python3.7/site-packages (from tensorflow==1.14->basurales==0.0.post0.dev4+g62a921a.dirty) (0.2.0)\n",
      "Requirement already satisfied: absl-py>=0.7.0 in /opt/miniconda3/envs/tf-gpu/lib/python3.7/site-packages (from tensorflow==1.14->basurales==0.0.post0.dev4+g62a921a.dirty) (0.11.0)\n",
      "Requirement already satisfied: grpcio>=1.8.6 in /opt/miniconda3/envs/tf-gpu/lib/python3.7/site-packages (from tensorflow==1.14->basurales==0.0.post0.dev4+g62a921a.dirty) (1.36.1)\n",
      "Requirement already satisfied: wheel>=0.26 in /opt/miniconda3/envs/tf-gpu/lib/python3.7/site-packages (from tensorflow==1.14->basurales==0.0.post0.dev4+g62a921a.dirty) (0.36.2)\n",
      "Requirement already satisfied: markdown>=2.6.8 in /opt/miniconda3/envs/tf-gpu/lib/python3.7/site-packages (from tensorboard<1.15.0,>=1.14.0->tensorflow==1.14->basurales==0.0.post0.dev4+g62a921a.dirty) (3.3.4)\n",
      "Requirement already satisfied: werkzeug>=0.11.15 in /opt/miniconda3/envs/tf-gpu/lib/python3.7/site-packages (from tensorboard<1.15.0,>=1.14.0->tensorflow==1.14->basurales==0.0.post0.dev4+g62a921a.dirty) (1.0.1)\n",
      "Requirement already satisfied: setuptools>=41.0.0 in /opt/miniconda3/envs/tf-gpu/lib/python3.7/site-packages (from tensorboard<1.15.0,>=1.14.0->tensorflow==1.14->basurales==0.0.post0.dev4+g62a921a.dirty) (52.0.0.post20210125)\n",
      "Requirement already satisfied: opencv-python-headless>=4.1.1 in /opt/miniconda3/envs/tf-gpu/lib/python3.7/site-packages/opencv_python_headless-4.5.1.48-py3.7-linux-x86_64.egg (from albumentations->basurales==0.0.post0.dev4+g62a921a.dirty) (4.5.1.48)\n",
      "Requirement already satisfied: Pillow in /opt/miniconda3/envs/tf-gpu/lib/python3.7/site-packages/Pillow-8.1.2-py3.7-linux-x86_64.egg (from imgaug->basurales==0.0.post0.dev4+g62a921a.dirty) (8.1.2)\n",
      "Requirement already satisfied: imageio in /opt/miniconda3/envs/tf-gpu/lib/python3.7/site-packages/imageio-2.9.0-py3.7.egg (from imgaug->basurales==0.0.post0.dev4+g62a921a.dirty) (2.9.0)\n",
      "Requirement already satisfied: PyWavelets>=1.1.1 in /opt/miniconda3/envs/tf-gpu/lib/python3.7/site-packages/PyWavelets-1.1.1-py3.7-linux-x86_64.egg (from scikit-image->basurales==0.0.post0.dev4+g62a921a.dirty) (1.1.1)\n",
      "Requirement already satisfied: networkx>=2.0 in /opt/miniconda3/envs/tf-gpu/lib/python3.7/site-packages/networkx-2.5-py3.7.egg (from scikit-image->basurales==0.0.post0.dev4+g62a921a.dirty) (2.5)\n",
      "Requirement already satisfied: tifffile>=2019.7.26 in /opt/miniconda3/envs/tf-gpu/lib/python3.7/site-packages/tifffile-2021.3.5-py3.7.egg (from scikit-image->basurales==0.0.post0.dev4+g62a921a.dirty) (2021.3.5)\n",
      "Requirement already satisfied: cycler>=0.10 in /opt/miniconda3/envs/tf-gpu/lib/python3.7/site-packages/cycler-0.10.0-py3.7.egg (from matplotlib->basurales==0.0.post0.dev4+g62a921a.dirty) (0.10.0)\n",
      "Requirement already satisfied: kiwisolver>=1.0.1 in /opt/miniconda3/envs/tf-gpu/lib/python3.7/site-packages/kiwisolver-1.3.1-py3.7-linux-x86_64.egg (from matplotlib->basurales==0.0.post0.dev4+g62a921a.dirty) (1.3.1)\n",
      "Requirement already satisfied: pyparsing>=2.2.1 in /opt/miniconda3/envs/tf-gpu/lib/python3.7/site-packages/pyparsing-3.0.0b2-py3.7.egg (from matplotlib->basurales==0.0.post0.dev4+g62a921a.dirty) (3.0.0b2)\n",
      "Requirement already satisfied: python-dateutil>=2.7 in /opt/miniconda3/envs/tf-gpu/lib/python3.7/site-packages (from matplotlib->basurales==0.0.post0.dev4+g62a921a.dirty) (2.8.1)\n"
     ]
    },
    {
     "name": "stdout",
     "output_type": "stream",
     "text": [
      "Requirement already satisfied: decorator>=4.3.0 in /opt/miniconda3/envs/tf-gpu/lib/python3.7/site-packages (from networkx>=2.0->scikit-image->basurales==0.0.post0.dev4+g62a921a.dirty) (4.4.2)\n",
      "Requirement already satisfied: certifi in /opt/miniconda3/envs/tf-gpu/lib/python3.7/site-packages (from fiona->basurales==0.0.post0.dev4+g62a921a.dirty) (2020.6.20)\n",
      "Requirement already satisfied: click-plugins>=1.0 in /opt/miniconda3/envs/tf-gpu/lib/python3.7/site-packages/click_plugins-1.1.1-py3.7.egg (from fiona->basurales==0.0.post0.dev4+g62a921a.dirty) (1.1.1)\n",
      "Requirement already satisfied: click<8,>=4.0 in /opt/miniconda3/envs/tf-gpu/lib/python3.7/site-packages/click-7.1.2-py3.7.egg (from fiona->basurales==0.0.post0.dev4+g62a921a.dirty) (7.1.2)\n",
      "Requirement already satisfied: cligj>=0.5 in /opt/miniconda3/envs/tf-gpu/lib/python3.7/site-packages/cligj-0.7.1-py3.7.egg (from fiona->basurales==0.0.post0.dev4+g62a921a.dirty) (0.7.1)\n",
      "Requirement already satisfied: munch in /opt/miniconda3/envs/tf-gpu/lib/python3.7/site-packages/munch-2.5.1.dev12-py3.7.egg (from fiona->basurales==0.0.post0.dev4+g62a921a.dirty) (2.5.1.dev12)\n",
      "Requirement already satisfied: zipp>=0.5 in /opt/miniconda3/envs/tf-gpu/lib/python3.7/site-packages (from importlib-metadata->pysatproc==0.1.5.post1.dev1+gd0180c8) (3.4.0)\n",
      "Requirement already satisfied: affine in /opt/miniconda3/envs/tf-gpu/lib/python3.7/site-packages/affine-2.3.0-py3.7.egg (from rasterio->basurales==0.0.post0.dev4+g62a921a.dirty) (2.3.0)\n",
      "Requirement already satisfied: snuggs>=1.4.1 in /opt/miniconda3/envs/tf-gpu/lib/python3.7/site-packages/snuggs-1.4.7-py3.7.egg (from rasterio->basurales==0.0.post0.dev4+g62a921a.dirty) (1.4.7)\n",
      "Requirement already satisfied: joblib>=0.11 in /opt/miniconda3/envs/tf-gpu/lib/python3.7/site-packages/joblib-1.0.1-py3.7.egg (from scikit-learn->basurales==0.0.post0.dev4+g62a921a.dirty) (1.0.1)\n",
      "Requirement already satisfied: threadpoolctl>=2.0.0 in /opt/miniconda3/envs/tf-gpu/lib/python3.7/site-packages/threadpoolctl-2.1.0-py3.7.egg (from scikit-learn->basurales==0.0.post0.dev4+g62a921a.dirty) (2.1.0)\n",
      "Building wheels for collected packages: pysatproc\n",
      "  Building wheel for pysatproc (PEP 517) ... \u001b[?25ldone\n",
      "\u001b[?25h  Created wheel for pysatproc: filename=pysatproc-0.1.5.post1.dev1+gd0180c8-py2.py3-none-any.whl size=32494 sha256=9ed6cb0eefefed7405e8e2ad5219239ecca4c65d691b217bbb51832d7d99208a\n",
      "  Stored in directory: /tmp/pip-ephem-wheel-cache-pc3nco96/wheels/6a/aa/bf/885699ad1244110053be14fc31fb2b566976c5a4b15c6d70a5\n",
      "Successfully built pysatproc\n",
      "Installing collected packages: pysatproc, basurales\n",
      "  Attempting uninstall: pysatproc\n",
      "    Found existing installation: pysatproc 0.1.4.post1.dev8+g0b2f480\n",
      "    Uninstalling pysatproc-0.1.4.post1.dev8+g0b2f480:\n",
      "      Successfully uninstalled pysatproc-0.1.4.post1.dev8+g0b2f480\n",
      "  Attempting uninstall: basurales\n",
      "    Found existing installation: basurales 0.0.post0.dev4+g62a921a.dirty\n",
      "    Uninstalling basurales-0.0.post0.dev4+g62a921a.dirty:\n",
      "      Successfully uninstalled basurales-0.0.post0.dev4+g62a921a.dirty\n",
      "  Running setup.py develop for basurales\n",
      "Successfully installed basurales pysatproc-0.1.5.post1.dev1+gd0180c8\n"
     ]
    }
   ],
   "source": [
    "!pip install  /home/ro/satproc/ -e ./../"
   ]
  },
  {
   "cell_type": "code",
   "execution_count": 14,
   "metadata": {},
   "outputs": [],
   "source": [
    "from satproc.postprocess.polygonize import polygonize \n",
    "from satproc.filter import filter_by_max_prob"
   ]
  },
  {
   "cell_type": "code",
   "execution_count": 4,
   "metadata": {},
   "outputs": [
    {
     "name": "stdout",
     "output_type": "stream",
     "text": [
      "mkdir: cannot create directory ‘/home/ro/basurales/data/data_results/filtered_up05/’: File exists\r\n"
     ]
    }
   ],
   "source": [
    "!mkdir /home/ro/basurales/data/data_results/filtered_up05/"
   ]
  },
  {
   "cell_type": "code",
   "execution_count": 5,
   "metadata": {},
   "outputs": [
    {
     "name": "stderr",
     "output_type": "stream",
     "text": [
      "100%|██████████| 178235/178235 [08:55<00:00, 332.61it/s]\n"
     ]
    }
   ],
   "source": [
    "filter_by_max_prob(input_dir='/home/ro/basurales/data/data_results/6D/100_100',\n",
    "                   output_dir='/home/ro/basurales/data/data_results/filtered_up05/',\n",
    "                   threshold=0.5)"
   ]
  },
  {
   "cell_type": "code",
   "execution_count": 15,
   "metadata": {
    "jupyter": {
     "outputs_hidden": true
    }
   },
   "outputs": [
    {
     "name": "stderr",
     "output_type": "stream",
     "text": [
      "100%|██████████| 24688/24688 [1:12:55<00:00,  5.64it/s]\n",
      "100%|██████████| 25/25 [01:31<00:00,  3.66s/it]\n",
      "100%|██████████| 25/25 [02:40<00:00,  6.41s/it]\n"
     ]
    }
   ],
   "source": [
    "input_path = '/home/ro/basurales/data/data_results/filtered_up05/'\n",
    "output_path = '/home/ro/basurales/data/data_results/basurales_100x100_thr05.gpkg'\n",
    "\n",
    "\n",
    "polygonize(threshold=0.5,\n",
    "           input_dir=input_path,\n",
    "           output=output_path)"
   ]
  },
  {
   "cell_type": "markdown",
   "metadata": {},
   "source": [
    "## Filtrar por área mínima\n",
    "\n",
    "Como último paso, filtramos aquellos polígonos de area inferior a 300 m², dado que consideramos que son falsos positivos. Para esto utilizamos `ogr2ogr` y una consulta SQL. El resultado se guarda en `data/results/predict_300.gpkg`"
   ]
  },
  {
   "cell_type": "code",
   "execution_count": 19,
   "metadata": {},
   "outputs": [],
   "source": [
    "min_area = 35000\n",
    "input_path = \"/home/ro/basurales/data/data_results/basurales_100x100_thr05_utm.gpkg\"\n",
    "output_path = \"/home/ro/basurales/data/data_results/basurales_100x100_thr05_up35000_utm.gpkg\""
   ]
  },
  {
   "cell_type": "code",
   "execution_count": 22,
   "metadata": {},
   "outputs": [
    {
     "name": "stdout",
     "output_type": "stream",
     "text": [
      "INFO: Open of `/home/ro/basurales/data/data_results/basurales_100x100_thr05_utm.gpkg'\r\n",
      "      using driver `GPKG' successful.\r\n",
      "\r\n",
      "Layer name: basurales_100x100_thr05_utm\r\n",
      "Geometry: Polygon\r\n",
      "Feature Count: 3996255\r\n",
      "Extent: (456388.761164, 5473248.338332) - (1072792.602149, 6316984.743222)\r\n",
      "Layer SRS WKT:\r\n",
      "PROJCRS[\"WGS 84 / UTM zone 20S\",\r\n",
      "    BASEGEOGCRS[\"WGS 84\",\r\n",
      "        DATUM[\"World Geodetic System 1984\",\r\n",
      "            ELLIPSOID[\"WGS 84\",6378137,298.257223563,\r\n",
      "                LENGTHUNIT[\"metre\",1]]],\r\n",
      "        PRIMEM[\"Greenwich\",0,\r\n",
      "            ANGLEUNIT[\"degree\",0.0174532925199433]],\r\n",
      "        ID[\"EPSG\",4326]],\r\n",
      "    CONVERSION[\"UTM zone 20S\",\r\n",
      "        METHOD[\"Transverse Mercator\",\r\n",
      "            ID[\"EPSG\",9807]],\r\n",
      "        PARAMETER[\"Latitude of natural origin\",0,\r\n",
      "            ANGLEUNIT[\"degree\",0.0174532925199433],\r\n",
      "            ID[\"EPSG\",8801]],\r\n",
      "        PARAMETER[\"Longitude of natural origin\",-63,\r\n",
      "            ANGLEUNIT[\"degree\",0.0174532925199433],\r\n",
      "            ID[\"EPSG\",8802]],\r\n"
     ]
    }
   ],
   "source": [
    "!ogrinfo -al $input_path | head -n25"
   ]
  },
  {
   "cell_type": "code",
   "execution_count": 23,
   "metadata": {},
   "outputs": [],
   "source": [
    "!ogr2ogr \\\n",
    "    -t_srs EPSG:32720 \\\n",
    "    -f \"GPKG\" \\\n",
    "    -sql \"SELECT * FROM basurales_100x100_thr05_utm m WHERE ST_Area(geom) > $min_area\" \\\n",
    "    -dialect SQLITE \\\n",
    "    -nln results \\\n",
    "    $output_path \\\n",
    "    $input_path"
   ]
  }
 ],
 "metadata": {
  "colab": {
   "authorship_tag": "ABX9TyNKlws8+6PcuvJrSWdSmTxJ",
   "include_colab_link": true,
   "name": "4 - Post-procesamiento",
   "provenance": []
  },
  "kernelspec": {
   "display_name": "Python 3 (ipykernel)",
   "language": "python",
   "name": "python3"
  },
  "language_info": {
   "codemirror_mode": {
    "name": "ipython",
    "version": 3
   },
   "file_extension": ".py",
   "mimetype": "text/x-python",
   "name": "python",
   "nbconvert_exporter": "python",
   "pygments_lexer": "ipython3",
   "version": "3.7.11"
  },
  "toc": {
   "base_numbering": 1,
   "nav_menu": {},
   "number_sections": true,
   "sideBar": true,
   "skip_h1_title": false,
   "title_cell": "Table of Contents",
   "title_sidebar": "Contents",
   "toc_cell": false,
   "toc_position": {},
   "toc_section_display": true,
   "toc_window_display": false
  }
 },
 "nbformat": 4,
 "nbformat_minor": 4
}
